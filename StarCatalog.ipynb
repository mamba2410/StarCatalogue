{
 "cells": [
  {
   "cell_type": "markdown",
   "metadata": {},
   "source": [
    "Star Catalog for Napier Telescopes\n",
    "=============================\n",
    "\n",
    "This is a Python notebook for running the <code>StarCatalog.py</code> library/script. The script can be run with anything as long as the environment contains <code>numpy</code> and <code>sqlite3</code>. Anaconda Python works well.\n",
    "The directory should contain:\n",
    "- <code>StarCatalog.py</code>\n",
    "- <code>StarCatalog.db</code>\n",
    "- <code>StarCatalog.csv</code>\n",
    "- A README file\n",
    "- This iPython notebook\n",
    "\n",
    "\n",
    "Instructions\n",
    "-----------------\n",
    "\n",
    "Import the library with <code>import StarCatalog as sc</code> then initialise it with <code>sc.sc_open()</code>\n",
    "\n",
    "The main functions you'll want to use are:\n",
    "- <code>sc.observe(star_name)</code>  The variable _star-name_ needs to be a string in quotes, but does not need to be an exact match. If there is more than one match, it will prompt the user to choose.\n",
    "- <code>sc.info(star_number)</code>  The variable _star-number_ is simply the star number you want information on.\n",
    "\n",
    "If you want to add your own stars/objects to the database, you can use the following function:\n",
    "<code>sc.add_star(star_num, ra, dec, size, mag, type_and_desc, alt_name, q_tags, common_name, comments)</code>\n",
    "or\n",
    "<code>sc.add_star_quick(star_num, ra, dec, mag, alt_name, common_name)</code>\n",
    "\n",
    "If a star's data is wrong (there will definitely be some errors) you can change it yourself (after letting me know at cm430@, or open a github pull request) by using an update command:\n",
    "<code>sc.update_attribute(star_num, value)</code>\n",
    "replacing _attribute_ with one of the following column headers:\n",
    "- ra (right ascension)\n",
    "- dec (declination)\n",
    "- size (apparent size in sky?)\n",
    "- mag (apparent magnitude)\n",
    "- type_and_desc (type of star and description of it)\n",
    "- alt_name (alternative name for the star, usually not the common one)\n",
    "- q_tags (unsure what this is for, let me know if you do)\n",
    "- common_name (common name for the star if it has one)\n",
    "- comments (additional comments on the star)\n",
    "\n",
    "And don't forget to run the cell that includes the python library!\n",
    "\n",
    "Other comments\n",
    "--------------\n",
    "\n",
    "If the default Jupyter theme is too bright for observing (it probably will be), you can change it by running the commands in the Anaconda prompt:<br>\n",
    "<code>pip install jupyterthemes</code><br>\n",
    "and run either<br>\n",
    "<code>jt -t gruvboxd</code> or <code>jt -t monokai</code><br>\n",
    "You'll need to restart Jupyter client for the changes to take effect.\n",
    "Personally, I think <code>gruvboxd</code> would be better since it's a little more red/yellow than <code>monokai</code>. There are more themes available if you run <code>jt -l</code>. You can probably install more if you don't like the ones available.\n",
    "\n",
    "Happy stargazing!"
   ]
  },
  {
   "cell_type": "code",
   "execution_count": 2,
   "metadata": {
    "scrolled": false
   },
   "outputs": [],
   "source": [
    "# Run me!\n",
    "import StarCatalog as sc\n",
    "sc.sc_open()"
   ]
  },
  {
   "cell_type": "markdown",
   "metadata": {},
   "source": [
    "\n",
    "\n",
    "\n",
    "Example usage of functions so you know what they are like.\n"
   ]
  },
  {
   "cell_type": "code",
   "execution_count": 3,
   "metadata": {},
   "outputs": [
    {
     "name": "stdout",
     "output_type": "stream",
     "text": [
      "\n",
      "Number: 56\n",
      "Common Name: Betelgeuse\n",
      "Alternative Name: Alpha Ori\n",
      "RA: 05 55.2\n",
      "DEC: +07 25\n",
      "Magnitude: 0.4\n",
      "\n"
     ]
    }
   ],
   "source": [
    "# Get the common name, alternative name, right ascension, declination, magnitude\n",
    "# and number of the star \"Betelgeuse\"\n",
    "sc.observe(\"Betelgeuse\")"
   ]
  },
  {
   "cell_type": "code",
   "execution_count": 5,
   "metadata": {},
   "outputs": [
    {
     "name": "stdout",
     "output_type": "stream",
     "text": [
      "\n",
      "Number: 56\n",
      "Common Name: Betelgeuse\n",
      "Alternative Name: Alpha Ori\n",
      "RA: 05 55.2\n",
      "DEC: +07 25\n",
      "Magnitude: 0.4\n",
      "\n"
     ]
    }
   ],
   "source": [
    "# Also works with substrings. This returns the same information as above\n",
    "sc.observe(\"etel\")"
   ]
  },
  {
   "cell_type": "code",
   "execution_count": 6,
   "metadata": {},
   "outputs": [
    {
     "name": "stdout",
     "output_type": "stream",
     "text": [
      "\n",
      "Number: 56\n",
      "Common Name: Betelgeuse\n",
      "Alternative Name: Alpha Ori\n",
      "RA: 05 55.2\n",
      "DEC: +07 25\n",
      "Magnitude: 0.4\n",
      "Size: 0\n",
      "Type and Description: STAR M2 lab\n",
      "Q Tags:  8 ST\n",
      "Comments: \n",
      "\n"
     ]
    }
   ],
   "source": [
    "# Get all the stored information about a star from its number.\n",
    "# (You can find the number from the above commands)\n",
    "sc.info(56)"
   ]
  },
  {
   "cell_type": "markdown",
   "metadata": {},
   "source": [
    "Run your own code below"
   ]
  },
  {
   "cell_type": "code",
   "execution_count": 7,
   "metadata": {},
   "outputs": [
    {
     "name": "stdout",
     "output_type": "stream",
     "text": [
      "There were more than one match, which one would you like?\n",
      "0: Albireo , Beta Cyg A\n",
      "1: , Della Cyg AB\n",
      "2: Sadr, Gamma Cyg\n",
      "3: Deneb, Alpha Cyg\n",
      "4: Cat, Epsilon Cyg\n",
      "5: , Zeta Cyg\n",
      "Default is 0: 3\n",
      "\n",
      "Number: 232\n",
      "Common Name: Deneb\n",
      "Alternative Name: Alpha Cyg\n",
      "RA: 20 41.5\n",
      "DEC: +45 17\n",
      "Magnitude: 1.3\n",
      "\n"
     ]
    }
   ],
   "source": [
    "sc.observe(\"cyg\")"
   ]
  },
  {
   "cell_type": "code",
   "execution_count": null,
   "metadata": {},
   "outputs": [],
   "source": []
  }
 ],
 "metadata": {
  "kernelspec": {
   "display_name": "Python 3",
   "language": "python",
   "name": "python3"
  },
  "language_info": {
   "codemirror_mode": {
    "name": "ipython",
    "version": 3
   },
   "file_extension": ".py",
   "mimetype": "text/x-python",
   "name": "python",
   "nbconvert_exporter": "python",
   "pygments_lexer": "ipython3",
   "version": "3.8.3"
  }
 },
 "nbformat": 4,
 "nbformat_minor": 2
}
